{
  "nbformat": 4,
  "nbformat_minor": 0,
  "metadata": {
    "colab": {
      "provenance": [],
      "include_colab_link": true
    },
    "kernelspec": {
      "name": "python3",
      "display_name": "Python 3"
    },
    "language_info": {
      "name": "python"
    }
  },
  "cells": [
    {
      "cell_type": "markdown",
      "metadata": {
        "id": "view-in-github",
        "colab_type": "text"
      },
      "source": [
        "<a href=\"https://colab.research.google.com/github/URBAN-IA/URBANIA/blob/main/study/ml/HDBSCAN_Code.ipynb\" target=\"_parent\"><img src=\"https://colab.research.google.com/assets/colab-badge.svg\" alt=\"Open In Colab\"/></a>"
      ]
    },
    {
      "cell_type": "markdown",
      "source": [
        "# **<font color=white> 11.HDBSCAN Code 실습**\n",
        "\n",
        "[목적]\n",
        "  - 비지도학습 중 하나인 Clustering 중 HDBSCAN 실습\n",
        "  - For loop 활용 Hyperparameter(1개) 변경시켜 가며 실습 진행\n",
        "  \n",
        "[Process]\n",
        "  1. Define X's\n",
        "  2. Modeling"
      ],
      "metadata": {
        "id": "cFTzuh34nTrY"
      }
    },
    {
      "cell_type": "code",
      "source": [
        "!pip install hdbscan"
      ],
      "metadata": {
        "id": "3mPgsqv9nkSi"
      },
      "execution_count": null,
      "outputs": []
    },
    {
      "cell_type": "code",
      "source": [
        "import numpy as np\n",
        "import matplotlib.pyplot as plt\n",
        "import seaborn as sns\n",
        "import sklearn.datasets as data\n",
        "import hdbscan"
      ],
      "metadata": {
        "id": "suF0b6kyneGy"
      },
      "execution_count": null,
      "outputs": []
    },
    {
      "cell_type": "code",
      "source": [
        "#plt 와 sns Setting\n",
        "%matplotlib inline\n",
        "sns.set_context('poster')\n",
        "sns.set_style('white')\n",
        "sns.set_color_codes()\n",
        "plot_kwds = {'alpha' : 0.5, 's' : 80, 'linewidths':0}\n",
        "plt.rcParams[\"figure.figsize\"] = [9,7]"
      ],
      "metadata": {
        "id": "c5f5C6EonkuH"
      },
      "execution_count": null,
      "outputs": []
    },
    {
      "cell_type": "code",
      "source": [
        "# Sample Data 만들기\n",
        "num=100\n",
        "moons, _ = data.make_moons(n_samples=num, noise=0.01)\n",
        "blobs, _ = data.make_blobs(n_samples=num, centers=[(-0.75,2.25), (1.0, -2.0)], cluster_std=0.25)\n",
        "blobs2, _ = data.make_blobs(n_samples=num, centers=[(2,2.25), (-1, -2.0)], cluster_std=0.4)\n",
        "test_data = np.vstack([moons, blobs,blobs2])\n",
        "plt.scatter(test_data.T[0], test_data.T[1], color='b', **plot_kwds)\n",
        "plt.show()"
      ],
      "metadata": {
        "id": "7bqH6-uinmVH"
      },
      "execution_count": null,
      "outputs": []
    },
    {
      "cell_type": "markdown",
      "source": [
        "[HDBSCAN]\n",
        "  - Hyperparameter Tuning using for Loop\n",
        "\n",
        "[HDBSCAN Parameters]\n",
        "  - Packge : https://hdbscan.readthedocs.io/en/latest/how_hdbscan_works.html\n",
        "  - min_cluster : Cluster 안에 적어도 몇개가 있어야 하는지\n",
        "  - cluster_selection_epsilon : combining HDBSACN with DBSCAN"
      ],
      "metadata": {
        "id": "BGIRwYppoXQj"
      }
    },
    {
      "cell_type": "code",
      "source": [
        "minsize = [3, 5, 10, 15, 20, 30]\n",
        "for m in minsize:\n",
        "    print(\"min_cluster_size : {}\".format(m))\n",
        "    db = hdbscan.HDBSCAN(min_cluster_size=m).fit(test_data)\n",
        "    palette = sns.color_palette()\n",
        "    cluster_colors = [palette[col]\n",
        "                    if col >= 0 else (0.5, 0.5, 0.5) for col in\n",
        "                    db.labels_]\n",
        "    plt.scatter(test_data.T[0], test_data.T[1], c=cluster_colors, **plot_kwds)\n",
        "    plt.show()"
      ],
      "metadata": {
        "id": "19mYGf51oUyE"
      },
      "execution_count": null,
      "outputs": []
    },
    {
      "cell_type": "code",
      "source": [],
      "metadata": {
        "id": "nHCpj11GrF5k"
      },
      "execution_count": null,
      "outputs": []
    }
  ]
}